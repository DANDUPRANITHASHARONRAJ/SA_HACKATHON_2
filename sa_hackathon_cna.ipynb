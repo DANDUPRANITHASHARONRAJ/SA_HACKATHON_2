{
  "nbformat": 4,
  "nbformat_minor": 0,
  "metadata": {
    "colab": {
      "provenance": []
    },
    "kernelspec": {
      "name": "python3",
      "display_name": "Python 3"
    },
    "language_info": {
      "name": "python"
    }
  },
  "cells": [
    {
      "cell_type": "code",
      "execution_count": 1,
      "metadata": {
        "colab": {
          "base_uri": "https://localhost:8080/"
        },
        "id": "Y3EZPO40u6Wn",
        "outputId": "437bed80-fcff-48c1-dc63-dc0f85a8d20d"
      },
      "outputs": [
        {
          "output_type": "stream",
          "name": "stdout",
          "text": [
            "Validation F1 Score: 0.19047619047619047\n",
            "Submission file saved as submission.csv\n"
          ]
        }
      ],
      "source": [
        "# Import libraries\n",
        "import pandas as pd\n",
        "import numpy as np\n",
        "from sklearn.model_selection import train_test_split\n",
        "from sklearn.ensemble import RandomForestClassifier\n",
        "from sklearn.metrics import f1_score\n",
        "from sklearn.impute import SimpleImputer\n",
        "from sklearn.preprocessing import StandardScaler\n",
        "\n",
        "# Load datasets\n",
        "train_df = pd.read_csv(\"Train_Data.csv\")\n",
        "test_df = pd.read_csv(\"Test_Data.csv\")\n",
        "sample_submission = pd.read_csv(\"Sample_Submission.csv\")\n",
        "\n",
        "# Map target variable: Adult = 0, Senior = 1\n",
        "train_df['age_group'] = train_df['age_group'].map({'Adult': 0, 'Senior': 1})\n",
        "\n",
        "# Drop rows with missing target values\n",
        "train_df = train_df[train_df['age_group'].isin([0, 1])]\n",
        "\n",
        "# Split features and target\n",
        "X = train_df.drop(['SEQN', 'age_group'], axis=1)\n",
        "y = train_df['age_group']\n",
        "\n",
        "# Handle missing values using median imputation\n",
        "imputer = SimpleImputer(strategy='median')\n",
        "X_imputed = imputer.fit_transform(X)\n",
        "\n",
        "# Feature scaling\n",
        "scaler = StandardScaler()\n",
        "X_scaled = scaler.fit_transform(X_imputed)\n",
        "\n",
        "# Train-test split for validation\n",
        "X_train, X_val, y_train, y_val = train_test_split(\n",
        "    X_scaled, y, test_size=0.2, random_state=42, stratify=y\n",
        ")\n",
        "\n",
        "# Train Random Forest model\n",
        "model = RandomForestClassifier(random_state=42, n_estimators=100)\n",
        "model.fit(X_train, y_train)\n",
        "\n",
        "# Evaluate on validation set\n",
        "y_val_pred = model.predict(X_val)\n",
        "f1 = f1_score(y_val, y_val_pred)\n",
        "print(\"Validation F1 Score:\", f1)\n",
        "\n",
        "# --- Predict on Test Set ---\n",
        "X_test = test_df.drop(['SEQN'], axis=1)\n",
        "X_test_imputed = imputer.transform(X_test)\n",
        "X_test_scaled = scaler.transform(X_test_imputed)\n",
        "\n",
        "test_predictions = model.predict(X_test_scaled)\n",
        "\n",
        "# --- Prepare submission ---\n",
        "submission = pd.DataFrame({'age_group': test_predictions})\n",
        "submission.to_csv(\"submission.csv\", index=False)\n",
        "print(\"Submission file saved as submission.csv\")\n"
      ]
    }
  ]
}